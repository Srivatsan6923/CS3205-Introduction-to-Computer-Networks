{
 "cells": [
  {
   "cell_type": "code",
   "execution_count": null,
   "id": "764c55af",
   "metadata": {},
   "outputs": [],
   "source": [
    "#Group Information:\n",
    "\n",
    "#Name                   | Roll Number\n",
    "#---------------------------------------\n",
    "#Aditya Aman            | NS25Z035\n",
    "#Pravitt Sethi          | NS25Z022\n",
    "#Srivatsan Sarvesan     | DA24E001"
   ]
  },
  {
   "cell_type": "code",
   "execution_count": 2,
   "id": "8a4ea643",
   "metadata": {},
   "outputs": [],
   "source": [
    "import random\n",
    "import numpy as np\n",
    "from math import radians, cos, sin, asin, sqrt\n",
    "from collections import defaultdict, deque\n",
    "import networkx as nx\n",
    "import json"
   ]
  },
  {
   "cell_type": "markdown",
   "id": "4d0823ca",
   "metadata": {},
   "source": [
    "The implementation follows these steps:\n",
    "\n",
    "1.Create router nodes from the provided information\n",
    "\n",
    "2.Calculate distances between all pairs of routers using the Haversine formula\n",
    "\n",
    "3.Randomly remove some connections based on a threshold parameter (T=0.3)\n",
    "\n",
    "4.Establish the remaining connections as the network topology\n",
    "\n",
    "This approach realistically models a network where not all potential connections exist. The threshold value of 0.3 was carefully chosen as a balance - a smaller value would create too few connections, while a larger value would create an unrealistically dense network."
   ]
  },
  {
   "cell_type": "code",
   "execution_count": 3,
   "id": "98e8724b",
   "metadata": {},
   "outputs": [],
   "source": [
    "# Haversine distance function (from your existing code)\n",
    "def haversine(lon1, lat1, lon2, lat2):\n",
    "    lon1, lat1, lon2, lat2 = map(radians, [lon1, lat1, lon2, lat2])\n",
    "    dlon = lon2 - lon1 \n",
    "    dlat = lat2 - lat1 \n",
    "    a = sin(dlat/2)**2 + cos(lat1)*cos(lat2)*sin(dlon/2)**2\n",
    "    c = 2 * asin(sqrt(a)) \n",
    "    r = 6371  # Earth radius in km\n",
    "    return c * r"
   ]
  },
  {
   "cell_type": "markdown",
   "id": "a82ee182",
   "metadata": {},
   "source": [
    "Loading the routers info"
   ]
  },
  {
   "cell_type": "code",
   "execution_count": 4,
   "id": "74a88d59",
   "metadata": {},
   "outputs": [],
   "source": [
    "with open('router.json', 'r') as file:\n",
    "    routers = json.load(file)"
   ]
  },
  {
   "cell_type": "markdown",
   "id": "7fc781d6",
   "metadata": {},
   "source": [
    "Converting it into list for easy operation "
   ]
  },
  {
   "cell_type": "code",
   "execution_count": 5,
   "id": "41973be8",
   "metadata": {},
   "outputs": [],
   "source": [
    "router_list = [\n",
    "    (ip, float(info['Latitude']), float(info['Longitude']))\n",
    "    for ip, info in routers.items()\n",
    "]"
   ]
  },
  {
   "cell_type": "markdown",
   "id": "39b6a020",
   "metadata": {},
   "source": [
    "Marking all the routers as nodes and dividing them into clusters where each cluster is basically those router which are located less than 50km from each other"
   ]
  },
  {
   "cell_type": "code",
   "execution_count": 6,
   "id": "80102354",
   "metadata": {},
   "outputs": [],
   "source": [
    "G = nx.Graph()\n",
    "\n",
    "# Add all routers as nodes\n",
    "for ip, lat, lon in router_list:\n",
    "    G.add_node(ip, lat=lat, lon=lon)\n",
    "\n",
    "# Connect routers within 50km\n",
    "for i, (ip1, lat1, lon1) in enumerate(router_list):\n",
    "    for j, (ip2, lat2, lon2) in enumerate(router_list[i+1:], i+1):\n",
    "        distance = haversine(lat1, lon1, lat2, lon2)\n",
    "        if distance <= 50:\n",
    "            G.add_edge(ip1, ip2)"
   ]
  },
  {
   "cell_type": "code",
   "execution_count": 7,
   "id": "29bf781e",
   "metadata": {},
   "outputs": [],
   "source": [
    "clusters = list(nx.connected_components(G))"
   ]
  },
  {
   "cell_type": "markdown",
   "id": "84805275",
   "metadata": {},
   "source": [
    "Making common latitude and longitutde for each clusters and marking them from 1 to N"
   ]
  },
  {
   "cell_type": "code",
   "execution_count": 8,
   "id": "0bca1828",
   "metadata": {},
   "outputs": [
    {
     "name": "stdout",
     "output_type": "stream",
     "text": [
      "[[0, 13.0878, 80.2785], [1, 19.0728, 72.8826], [2, 1.2897, 103.8501], [3, -8.8368, 13.2343], [4, 43.297, 5.3811], [5, 52.374, 4.8897], [6, -26.2023, 28.0436], [7, 45.4643, 9.1895], [8, 38.7167, -9.1333], [9, 12.3657, -1.5339], [10, 6.4541, 3.3947], [11, 43.2627, -2.9253], [12, 41.5503, -8.42], [13, 4.0483, 9.7043], [14, -33.9258, 18.6167], [15, 34.0522, -118.2437], [16, 32.7831, -96.8067], [17, 38.1166, 13.3636], [18, 32.8874, 13.1873], [19, 51.5085, -0.1257], [20, 48.8534, 2.3488], [21, -18.9137, 47.5361], [22, -18.1492, 49.4023], [23, 12.6091, -7.9752], [24, 40.4165, -3.7026], [25, -29.1211, 26.214], [26, -4.0547, 39.6636], [27, -1.2833, 36.8167], [28, 0.3163, 32.5822], [29, -1.95, 30.0588], [30, 14.6937, -17.4441], [31, -12.8024, 28.2132], [32, -15.4067, 28.2871]]\n"
     ]
    }
   ],
   "source": [
    "# Create a lookup dictionary from IP to (lat, lon)\n",
    "ip_to_coords = {ip: (lat, lon) for ip, lat, lon in router_list}\n",
    "\n",
    "cluster_coordinates = []\n",
    "\n",
    "for cluster_id, cluster in enumerate(clusters):\n",
    "    latitudes = [ip_to_coords[ip][0] for ip in cluster]\n",
    "    longitudes = [ip_to_coords[ip][1] for ip in cluster]\n",
    "    cluster_coordinates.append([\n",
    "        cluster_id,\n",
    "        max(latitudes),\n",
    "        max(longitudes)\n",
    "    ])\n",
    "\n",
    "print(cluster_coordinates)\n"
   ]
  },
  {
   "cell_type": "code",
   "execution_count": 9,
   "id": "742fd4bd",
   "metadata": {},
   "outputs": [
    {
     "data": {
      "text/plain": [
       "33"
      ]
     },
     "execution_count": 9,
     "metadata": {},
     "output_type": "execute_result"
    }
   ],
   "source": [
    "len(cluster_coordinates)"
   ]
  },
  {
   "cell_type": "markdown",
   "id": "bc8d9f32",
   "metadata": {},
   "source": [
    "Defining the  class Router Node as defined in Ex-1"
   ]
  },
  {
   "cell_type": "code",
   "execution_count": 10,
   "id": "e916def9",
   "metadata": {},
   "outputs": [],
   "source": [
    "class RouterNode:\n",
    "    def __init__(self, router_id, ip, latitude, longitude):\n",
    "        self.id = router_id\n",
    "        self.ip = ip\n",
    "        self.lat = latitude\n",
    "        self.lon = longitude\n",
    "        self.neighbors = {}  # neighbor_id: weight (distance)"
   ]
  },
  {
   "cell_type": "markdown",
   "id": "cbbebec1",
   "metadata": {},
   "source": [
    "Defining the threshold"
   ]
  },
  {
   "cell_type": "code",
   "execution_count": 11,
   "id": "f13e32fe",
   "metadata": {},
   "outputs": [],
   "source": [
    "T=0.3 \n",
    "\n",
    "# The reason for taking threshold as 0.3 as 0.1 would have been too small and 0.5 would have been too large."
   ]
  },
  {
   "cell_type": "markdown",
   "id": "1ebdcd63",
   "metadata": {},
   "source": [
    " Build graph from routers list (routers_info: list of (ip, lat, lon))"
   ]
  },
  {
   "cell_type": "code",
   "execution_count": 12,
   "id": "ab3edb1f",
   "metadata": {},
   "outputs": [],
   "source": [
    "def build_graph(routers_info, threshold=T):\n",
    "    n = len(routers_info)\n",
    "    routers = {}\n",
    "    # Create RouterNode objects with IDs\n",
    "    for i, (ip, lat, lon) in enumerate(routers_info, start=1):\n",
    "        routers[i] = RouterNode(i, ip, float(lat), float(lon))\n",
    "    \n",
    "    # Create complete graph edges with haversine distance\n",
    "    edges = []\n",
    "    for i in range(1, n+1):\n",
    "        for j in range(i+1, n+1):\n",
    "            dist = haversine(routers[i].lon, routers[i].lat, routers[j].lon, routers[j].lat)\n",
    "            edges.append((i, j, dist))\n",
    "    \n",
    "    # Randomly drop T fraction of edges\n",
    "    num_edges_to_drop = int(threshold * len(edges))\n",
    "    edges_to_drop = set(random.sample(range(len(edges)), num_edges_to_drop))\n",
    "    \n",
    "    # Add edges to routers if not dropped\n",
    "    for idx, (u, v, w) in enumerate(edges):\n",
    "        if idx in edges_to_drop:\n",
    "            continue\n",
    "        routers[u].neighbors[v] = w\n",
    "        routers[v].neighbors[u] = w\n",
    "    \n",
    "    return routers"
   ]
  },
  {
   "cell_type": "markdown",
   "id": "62b66cee",
   "metadata": {},
   "source": [
    "Generating graphs using the previously created clusters"
   ]
  },
  {
   "cell_type": "code",
   "execution_count": 13,
   "id": "18699375",
   "metadata": {},
   "outputs": [],
   "source": [
    "routers=build_graph(cluster_coordinates, threshold=T)"
   ]
  },
  {
   "cell_type": "code",
   "execution_count": 14,
   "id": "c556c375",
   "metadata": {},
   "outputs": [
    {
     "data": {
      "text/plain": [
       "{4: 7793.3109808335175,\n",
       " 7: 7138.685366393103,\n",
       " 9: 9051.908804922785,\n",
       " 10: 8828.624190250373,\n",
       " 11: 8430.035806905746,\n",
       " 12: 8469.141860672988,\n",
       " 13: 8940.181875595046,\n",
       " 14: 7803.264562216937,\n",
       " 15: 8349.944357036766,\n",
       " 16: 14418.993931504492,\n",
       " 18: 7103.165030074891,\n",
       " 19: 7095.362750218246,\n",
       " 20: 8210.807545251884,\n",
       " 22: 5052.944317396905,\n",
       " 23: 4851.009226594174,\n",
       " 24: 9507.551485856951,\n",
       " 25: 8564.491478094622,\n",
       " 27: 4872.53473982718,\n",
       " 28: 5052.0311808854785,\n",
       " 29: 5442.1493775747285,\n",
       " 30: 5786.199154367221,\n",
       " 31: 10448.565471051885,\n",
       " 33: 6537.929261964411}"
      ]
     },
     "execution_count": 14,
     "metadata": {},
     "output_type": "execute_result"
    }
   ],
   "source": [
    "routers[1].neighbors"
   ]
  },
  {
   "cell_type": "markdown",
   "id": "b834609e",
   "metadata": {},
   "source": [
    "# (a)Link State Routing Protocol Implementation"
   ]
  },
  {
   "cell_type": "code",
   "execution_count": 15,
   "id": "e669e7d2",
   "metadata": {},
   "outputs": [],
   "source": [
    "\n",
    "def link_state_routing(routers):\n",
    "    n = len(routers)\n",
    "    # Each router floods its LSA to all others\n",
    "    # Initially each router knows only its neighbors\n",
    "    # LSDB: router_id -> dict of neighbors and weights\n",
    "    LSDB = {r: dict(routers[r].neighbors) for r in routers}\n",
    "    \n",
    "    # Flooding rounds: in each round, routers share LSAs they know\n",
    "    # We'll simulate flooding until all routers have full LSDB\n",
    "    rounds = 0\n",
    "    converged = False\n",
    "    \n",
    "    # Each router's LSDB copy\n",
    "    router_LSDBs = {r: {r: LSDB[r]} for r in routers}\n",
    "    \n",
    "    while not converged:\n",
    "        rounds += 1\n",
    "        updated = False\n",
    "        # Each router sends its LSDB to neighbors\n",
    "        for r in routers:\n",
    "            for nbr in routers[r].neighbors:\n",
    "                # Merge LSDBs\n",
    "                before = len(router_LSDBs[nbr])\n",
    "                router_LSDBs[nbr].update(router_LSDBs[r])\n",
    "                after = len(router_LSDBs[nbr])\n",
    "                if after > before:\n",
    "                    updated = True\n",
    "        if not updated:\n",
    "            converged = True\n",
    "    \n",
    "    # Total LSAs flooded = number of routers * rounds\n",
    "    total_LSAs = n * rounds\n",
    "    \n",
    "    # Number of entries in LSDB = number of routers\n",
    "    entries_in_LSDB = n\n",
    "    \n",
    "    return total_LSAs, entries_in_LSDB, rounds, router_LSDBs"
   ]
  },
  {
   "cell_type": "markdown",
   "id": "4abb80c4",
   "metadata": {},
   "source": [
    "Implementing the link state routing protocol on the routers"
   ]
  },
  {
   "cell_type": "code",
   "execution_count": 16,
   "id": "1015acd4",
   "metadata": {},
   "outputs": [],
   "source": [
    "total_LSAs, entries_in_LSDB, rounds, router_LSDBs=link_state_routing(routers)"
   ]
  },
  {
   "cell_type": "code",
   "execution_count": 17,
   "id": "7b5abc46",
   "metadata": {},
   "outputs": [
    {
     "name": "stdout",
     "output_type": "stream",
     "text": [
      "Total LSAs flooded: 99\n",
      "Entries in LSDB: 33\n",
      "Rounds until convergence: 3\n"
     ]
    }
   ],
   "source": [
    "print(\"Total LSAs flooded:\", total_LSAs)\n",
    "print(\"Entries in LSDB:\", entries_in_LSDB)\n",
    "print(\"Rounds until convergence:\", rounds)"
   ]
  },
  {
   "cell_type": "markdown",
   "id": "def1f537",
   "metadata": {},
   "source": [
    "This function simulates the flooding process where:\n",
    "\n",
    "Each router starts with knowledge only of its direct neighbors\n",
    "\n",
    "In each round, routers share their Link State Database (LSDB) with neighbors\n",
    "\n",
    "The process continues until no new information is learned (convergence)\n",
    "\n",
    "The function tracks important metrics like total LSAs flooded and rounds until convergence\n",
    "\n",
    "<b>The output shows that the network converged in 3 rounds with 99 total LSAs flooded, demonstrating the efficiency of the protocol."
   ]
  },
  {
   "cell_type": "markdown",
   "id": "588013c5",
   "metadata": {},
   "source": [
    "# (b) Function that takes router ID and prints the forwarding table"
   ]
  },
  {
   "cell_type": "markdown",
   "id": "9366bcf5",
   "metadata": {},
   "source": [
    "-> Computing the forwarding table"
   ]
  },
  {
   "cell_type": "code",
   "execution_count": 18,
   "id": "cf487870",
   "metadata": {},
   "outputs": [],
   "source": [
    "def compute_forwarding_tables(routers, router_LSDBs=router_LSDBs):\n",
    "    forwarding_tables = {}\n",
    "    \n",
    "    for r in routers:\n",
    "        # Build graph from LSDB of router r\n",
    "        graph = defaultdict(dict)\n",
    "        for node, nbrs in router_LSDBs[r].items():\n",
    "            for nbr, w in nbrs.items():\n",
    "                graph[node][nbr] = w\n",
    "        # Dijkstra from r\n",
    "        dist = {node: float('inf') for node in graph}\n",
    "        prev = {node: None for node in graph}\n",
    "        dist[r] = 0\n",
    "        unvisited = set(graph.keys())\n",
    "        \n",
    "        while unvisited:\n",
    "            u = min(unvisited, key=lambda x: dist[x])\n",
    "            unvisited.remove(u)\n",
    "            for v, w in graph[u].items():\n",
    "                alt = dist[u] + w\n",
    "                if alt < dist[v]:\n",
    "                    dist[v] = alt\n",
    "                    prev[v] = u\n",
    "        \n",
    "        # Build forwarding table: destination -> next hop\n",
    "        forwarding = {}\n",
    "        for dest in graph:\n",
    "            if dest == r:\n",
    "                continue\n",
    "            # Trace path back to find next hop\n",
    "            next_hop = dest\n",
    "            while prev[next_hop] != r and prev[next_hop] is not None:\n",
    "                next_hop = prev[next_hop]\n",
    "            forwarding[dest] = next_hop if prev[next_hop] is not None else None\n",
    "        forwarding_tables[r] = forwarding\n",
    "    \n",
    "    return forwarding_tables"
   ]
  },
  {
   "cell_type": "code",
   "execution_count": 19,
   "id": "c01bf25c",
   "metadata": {},
   "outputs": [],
   "source": [
    "forwarding_tables=compute_forwarding_tables(routers)"
   ]
  },
  {
   "cell_type": "markdown",
   "id": "b336cbbe",
   "metadata": {},
   "source": [
    "For each router, this function:\n",
    "\n",
    "1.Constructs a graph representation based on the router's LSDB\n",
    "\n",
    "2.Runs Dijkstra's algorithm to find shortest paths to all destinations\n",
    "\n",
    "3.Traces back the paths to determine the next hop for each destination\n",
    "\n",
    "4.Compiles these next-hop decisions into a forwarding table"
   ]
  },
  {
   "cell_type": "markdown",
   "id": "12e12de9",
   "metadata": {},
   "source": [
    "Printing the forwarding tables"
   ]
  },
  {
   "cell_type": "code",
   "execution_count": 20,
   "id": "f7b22dd5",
   "metadata": {},
   "outputs": [],
   "source": [
    "def print_forwarding_table(router_id, forwarding_tables=forwarding_tables):\n",
    "    \"\"\"\n",
    "    Prints the forwarding table for a specific router.\n",
    "    \n",
    "    Parameters:\n",
    "    router_id (int): ID of the router whose forwarding table will be printed\n",
    "    forwarding_tables (dict): Dictionary containing all router forwarding tables\n",
    "    \"\"\"\n",
    "    if router_id not in forwarding_tables:\n",
    "        print(f\"Error: Router {router_id} not found in forwarding tables\")\n",
    "        return\n",
    "    \n",
    "    # Get this router's forwarding table\n",
    "    router_table = forwarding_tables[router_id]\n",
    "    \n",
    "    # Print header\n",
    "    print(f\"\\n{'='*50}\")\n",
    "    print(f\"FORWARDING TABLE FOR ROUTER {router_id}\")\n",
    "    print(f\"{'-'*50}\")\n",
    "    print(f\"{'Destination':<15} | {'Next Hop':<15}\")\n",
    "    print(f\"{'-'*15}-+-{'-'*15}\")\n",
    "    \n",
    "    # Sort destinations for consistent display\n",
    "    for dest in sorted(router_table.keys()):\n",
    "        next_hop = router_table[dest]\n",
    "        if next_hop is None:\n",
    "            next_hop_str = \"UNREACHABLE\"\n",
    "        else:\n",
    "            next_hop_str = str(next_hop)\n",
    "        print(f\"{dest:<15} | {next_hop_str:<15}\")\n",
    "    \n",
    "    print(f\"{'='*50}\")\n",
    "    print(f\"Total destinations: {len(router_table)}\\n\")\n"
   ]
  },
  {
   "cell_type": "code",
   "execution_count": 21,
   "id": "a1c94c74",
   "metadata": {},
   "outputs": [
    {
     "name": "stdout",
     "output_type": "stream",
     "text": [
      "\n",
      "==================================================\n",
      "FORWARDING TABLE FOR ROUTER 20\n",
      "--------------------------------------------------\n",
      "Destination     | Next Hop       \n",
      "----------------+----------------\n",
      "1               | 1              \n",
      "2               | 2              \n",
      "3               | 3              \n",
      "4               | 21             \n",
      "5               | 21             \n",
      "6               | 21             \n",
      "7               | 7              \n",
      "8               | 8              \n",
      "9               | 9              \n",
      "10              | 12             \n",
      "11              | 11             \n",
      "12              | 12             \n",
      "13              | 12             \n",
      "14              | 21             \n",
      "15              | 15             \n",
      "16              | 16             \n",
      "17              | 21             \n",
      "18              | 21             \n",
      "19              | 21             \n",
      "21              | 21             \n",
      "22              | 22             \n",
      "23              | 23             \n",
      "24              | 12             \n",
      "25              | 25             \n",
      "26              | 21             \n",
      "27              | 27             \n",
      "28              | 28             \n",
      "29              | 29             \n",
      "30              | 21             \n",
      "31              | 12             \n",
      "32              | 32             \n",
      "33              | 33             \n",
      "==================================================\n",
      "Total destinations: 32\n",
      "\n"
     ]
    }
   ],
   "source": [
    "print_forwarding_table(20)"
   ]
  },
  {
   "cell_type": "markdown",
   "id": "c38debb5",
   "metadata": {},
   "source": [
    "# (c) Function that takes source and destination IDs and provide the routing path"
   ]
  },
  {
   "cell_type": "code",
   "execution_count": null,
   "id": "36408245",
   "metadata": {},
   "outputs": [],
   "source": [
    "def get_routing_path(src, dst, forwarding_tables=forwarding_tables):\n",
    "    path = [src]\n",
    "    current = src\n",
    "    while current != dst:\n",
    "        next_hop = forwarding_tables[current].get(dst)\n",
    "        if next_hop is None:\n",
    "            return None  # No path\n",
    "        path.append(next_hop)\n",
    "        current = next_hop\n",
    "    return path"
   ]
  },
  {
   "cell_type": "code",
   "execution_count": null,
   "id": "b4734f5c",
   "metadata": {},
   "outputs": [
    {
     "data": {
      "text/plain": [
       "[1, 27, 2]"
      ]
     },
     "execution_count": 23,
     "metadata": {},
     "output_type": "execute_result"
    }
   ],
   "source": [
    "get_routing_path(1,2)"
   ]
  }
 ],
 "metadata": {
  "kernelspec": {
   "display_name": ".venv",
   "language": "python",
   "name": "python3"
  },
  "language_info": {
   "codemirror_mode": {
    "name": "ipython",
    "version": 3
   },
   "file_extension": ".py",
   "mimetype": "text/x-python",
   "name": "python",
   "nbconvert_exporter": "python",
   "pygments_lexer": "ipython3",
   "version": "3.13.3"
  }
 },
 "nbformat": 4,
 "nbformat_minor": 5
}
